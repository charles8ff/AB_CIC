{
 "cells": [
  {
   "cell_type": "markdown",
   "metadata": {},
   "source": [
    "This is a CODE DEMO"
   ]
  },
  {
   "cell_type": "code",
   "execution_count": 4,
   "metadata": {},
   "outputs": [],
   "source": [
    "import pandas as pd\n",
    "import numpy as np\n",
    "import xgboost as xgb\n",
    "from sklearn.model_selection import train_test_split\n",
    "import shap\n",
    "import matplotlib.pyplot as pl\n",
    "\n",
    "shap.initjs()"
   ]
  },
  {
   "cell_type": "code",
   "execution_count": 5,
   "metadata": {},
   "outputs": [],
   "source": [
    "# Read in the data\n",
    "route = \"data/\"\n",
    "matches = pd.read_csv(route+\"matches.csv\")\n",
    "participants = pd.read_csv(route+\"participants.csv\")\n",
    "stats1 = pd.read_csv(route+\"stats1.csv\", low_memory=False)\n",
    "stats2 = pd.read_csv(route+\"stats2.csv\", low_memory=False)\n",
    "stats = pd.concat([stats1,stats2])\n",
    "\n",
    "# Merge into a single DataFrame\n",
    "a = pd.merge(participants, matches, left_on=\"matchid\", right_on=\"id\")\n",
    "allstats_orig = pd.merge(a, stats, left_on=\"matchid\", right_on=\"id\")\n",
    "allstats = allstats_orig.copy()\n",
    "\n",
    "# Drop games that lasted less than 10 minutes (they are considered stomps)\n",
    "allstats = allstats.loc[allstats[\"duration\"] >= 10*60,:]\n",
    "\n",
    "# Convert string-based categories to numeric values\n",
    "cat_cols = [\"role\", \"position\", \"version\", \"platformid\"]\n",
    "for c in cat_cols:\n",
    "    allstats[c] = allstats[c].astype('category')\n",
    "    allstats[c] = allstats[c].cat.codes\n",
    "allstats[\"wardsbought\"] = allstats[\"wardsbought\"].astype(np.int32)\n",
    "\n",
    "X = allstats.drop([\"win\"], axis=1)\n",
    "y = allstats[\"win\"]\n",
    "\n",
    "# Convert all features we want to consider as rates\n",
    "rate_features = [\n",
    "    \"kills\", \"deaths\", \"assists\", \"killingsprees\", \"doublekills\",\n",
    "    \"triplekills\", \"quadrakills\", \"pentakills\", \"legendarykills\",\n",
    "    \"totdmgdealt\", \"magicdmgdealt\", \"physicaldmgdealt\", \"truedmgdealt\",\n",
    "    \"totdmgtochamp\", \"magicdmgtochamp\", \"physdmgtochamp\", \"truedmgtochamp\",\n",
    "    \"totheal\", \"totunitshealed\", \"dmgtoobj\", \"timecc\", \"totdmgtaken\",\n",
    "    \"magicdmgtaken\" , \"physdmgtaken\", \"truedmgtaken\", \"goldearned\", \"goldspent\",\n",
    "    \"totminionskilled\", \"neutralminionskilled\", \"ownjunglekills\",\n",
    "    \"enemyjunglekills\", \"totcctimedealt\", \"pinksbought\", \"wardsbought\",\n",
    "    \"wardsplaced\", \"wardskilled\"\n",
    "]\n",
    "\n",
    "for feature_name in rate_features:\n",
    "    X[feature_name] /= X[\"duration\"] / 60 # Per minute rate\n",
    "\n",
    "# Convert to fraction of game\n",
    "X[\"longesttimespentliving\"] /= X[\"duration\"]\n",
    "\n",
    "# Define friendly names for the features\n",
    "full_names = {\n",
    "    \"kills\": \"Kills per min.\",\n",
    "    \"deaths\": \"Deaths per min.\",\n",
    "    \"assists\": \"Assists per min.\",\n",
    "    \"killingsprees\": \"Killing sprees per min.\",\n",
    "    \"longesttimespentliving\": \"Longest time living as % of game.\",\n",
    "    \"doublekills\": \"Double kills per min.\",\n",
    "    \"triplekills\": \"Triple kills per min.\",\n",
    "    \"quadrakills\": \"Quadra kills per min.\",\n",
    "    \"pentakills\": \"Penta kills per min.\",\n",
    "    \"legendarykills\": \"Legendary kills per min.\",\n",
    "    \"totdmgdealt\": \"Total damage dealt per min.\",\n",
    "    \"magicdmgdealt\": \"Magic damage dealt per min.\",\n",
    "    \"physicaldmgdealt\": \"Physical damage dealt per min.\",\n",
    "    \"truedmgdealt\": \"True damage dealt per min.\",\n",
    "    \"totdmgtochamp\": \"Total damage to champions per min.\",\n",
    "    \"magicdmgtochamp\": \"Magic damage to champions per min.\",\n",
    "    \"physdmgtochamp\": \"Physical damage to champions per min.\",\n",
    "    \"truedmgtochamp\": \"True damage to champions per min.\",\n",
    "    \"totheal\": \"Total healing per min.\",\n",
    "    \"totunitshealed\": \"Total units healed per min.\",\n",
    "    \"dmgtoobj\": \"Damage to objects per min.\",\n",
    "    \"timecc\": \"Time spent with crown control per min.\",\n",
    "    \"totdmgtaken\": \"Total damage taken per min.\",\n",
    "    \"magicdmgtaken\": \"Magic damage taken per min.\",\n",
    "    \"physdmgtaken\": \"Physical damage taken per min.\",\n",
    "    \"truedmgtaken\": \"True damage taken per min.\",\n",
    "    \"goldearned\": \"Gold earned per min.\",\n",
    "    \"goldspent\": \"Gold spent per min.\",\n",
    "    \"totminionskilled\": \"Total minions killed per min.\",\n",
    "    \"neutralminionskilled\": \"Neutral minions killed per min.\",\n",
    "    \"ownjunglekills\": \"Own jungle kills per min.\",\n",
    "    \"enemyjunglekills\": \"Enemy jungle kills per min.\",\n",
    "    \"totcctimedealt\": \"Total crown control time dealt per min.\",\n",
    "    \"pinksbought\": \"Pink wards bought per min.\",\n",
    "    \"wardsbought\": \"Wards bought per min.\",\n",
    "    \"wardsplaced\": \"Wards placed per min.\",\n",
    "    \"turretkills\": \"Number of turret kills\",\n",
    "    \"inhibkills\": \"Number of inhibitor kills\",\n",
    "    \"dmgtoturrets\": \"Damage to turrets\"\n",
    "}\n",
    "feature_names = [full_names.get(n, n) for n in X.columns]\n",
    "X.columns = feature_names\n",
    "\n",
    "# Create train/validation split\n",
    "Xt, Xv, yt, yv = train_test_split(X,y, test_size=0.2, random_state=10)\n",
    "dt = xgb.DMatrix(Xt, label=yt.values)\n",
    "dv = xgb.DMatrix(Xv, label=yv.values)"
   ]
  },
  {
   "cell_type": "markdown",
   "metadata": {},
   "source": [
    "text"
   ]
  },
  {
   "cell_type": "code",
   "execution_count": 6,
   "metadata": {},
   "outputs": [
    {
     "name": "stderr",
     "output_type": "stream",
     "text": [
      "d:\\MSMK-PROJECTS\\CurrentIssues\\AB_CIC\\.venv\\lib\\site-packages\\xgboost\\core.py:727: FutureWarning: Pass `evals` as keyword args.\n",
      "  warnings.warn(msg, FutureWarning)\n",
      "d:\\MSMK-PROJECTS\\CurrentIssues\\AB_CIC\\.venv\\lib\\site-packages\\xgboost\\core.py:160: UserWarning: [10:23:26] WARNING: C:\\buildkite-agent\\builds\\buildkite-windows-cpu-autoscaling-group-i-0b3782d1791676daf-1\\xgboost\\xgboost-ci-windows\\src\\learner.cc:742: \n",
      "Parameters: { \"silent\" } are not used.\n",
      "\n",
      "  warnings.warn(smsg, UserWarning)\n"
     ]
    },
    {
     "name": "stdout",
     "output_type": "stream",
     "text": [
      "[0]\ttrain-logloss:0.54147\tvalid-logloss:0.54146\n",
      "[25]\ttrain-logloss:0.28916\tvalid-logloss:0.28950\n",
      "[50]\ttrain-logloss:0.25479\tvalid-logloss:0.25632\n",
      "[75]\ttrain-logloss:0.23665\tvalid-logloss:0.23895\n",
      "[100]\ttrain-logloss:0.22484\tvalid-logloss:0.22781\n",
      "[125]\ttrain-logloss:0.21495\tvalid-logloss:0.21866\n",
      "[150]\ttrain-logloss:0.20707\tvalid-logloss:0.21150\n",
      "[175]\ttrain-logloss:0.19964\tvalid-logloss:0.20463\n",
      "[200]\ttrain-logloss:0.19296\tvalid-logloss:0.19856\n",
      "[225]\ttrain-logloss:0.18677\tvalid-logloss:0.19287\n",
      "[250]\ttrain-logloss:0.18128\tvalid-logloss:0.18795\n",
      "[275]\ttrain-logloss:0.17572\tvalid-logloss:0.18268\n",
      "[299]\ttrain-logloss:0.17082\tvalid-logloss:0.17823\n"
     ]
    }
   ],
   "source": [
    "params = {\n",
    "    \"eta\": 0.5,\n",
    "    \"max_depth\": 4,\n",
    "    \"objective\": \"binary:logistic\",\n",
    "    \"silent\": 1,\n",
    "    \"base_score\": np.mean(yt),\n",
    "    \"eval_metric\": \"logloss\"\n",
    "}\n",
    "model = xgb.train(params, dt, 300, [(dt, \"train\"),(dv, \"valid\")], early_stopping_rounds=5, verbose_eval=25)"
   ]
  },
  {
   "cell_type": "markdown",
   "metadata": {},
   "source": []
  },
  {
   "cell_type": "code",
   "execution_count": 7,
   "metadata": {},
   "outputs": [],
   "source": [
    "# Compute the SHAP values for every prediction in the validation dataset\n",
    "explainer = shap.TreeExplainer(model)\n",
    "shap_values = explainer.shap_values(Xv)"
   ]
  },
  {
   "cell_type": "markdown",
   "metadata": {},
   "source": [
    "SHAP values sum to the difference between the expected output of the model and the current output for the current player. Note that for the Tree SHAP implmementation the margin output of the model is explained, not the trasformed output (such as a probability for logistic regression). This means that the units of the SHAP values for this model are log odds ratios. Large positive values mean a player is likely to win, while large negative values mean they are likely to lose."
   ]
  },
  {
   "cell_type": "code",
   "execution_count": 9,
   "metadata": {},
   "outputs": [
    {
     "ename": "ImportError",
     "evalue": "matplotlib is not installed so plotting is not available! Run `pip install matplotlib` to fix this.",
     "output_type": "error",
     "traceback": [
      "\u001b[1;31m---------------------------------------------------------------------------\u001b[0m",
      "\u001b[1;31mImportError\u001b[0m                               Traceback (most recent call last)",
      "Cell \u001b[1;32mIn[9], line 1\u001b[0m\n\u001b[1;32m----> 1\u001b[0m \u001b[43mshap\u001b[49m\u001b[38;5;241;43m.\u001b[39;49m\u001b[43mforce_plot\u001b[49m\u001b[43m(\u001b[49m\u001b[43mexplainer\u001b[49m\u001b[38;5;241;43m.\u001b[39;49m\u001b[43mexpected_value\u001b[49m\u001b[43m,\u001b[49m\u001b[43m \u001b[49m\u001b[43mshap_values\u001b[49m\u001b[43m[\u001b[49m\u001b[38;5;241;43m0\u001b[39;49m\u001b[43m,\u001b[49m\u001b[43m:\u001b[49m\u001b[43m]\u001b[49m\u001b[43m,\u001b[49m\u001b[43m \u001b[49m\u001b[43mXv\u001b[49m\u001b[38;5;241;43m.\u001b[39;49m\u001b[43miloc\u001b[49m\u001b[43m[\u001b[49m\u001b[38;5;241;43m0\u001b[39;49m\u001b[43m,\u001b[49m\u001b[43m:\u001b[49m\u001b[43m]\u001b[49m\u001b[43m)\u001b[49m\n",
      "File \u001b[1;32md:\\MSMK-PROJECTS\\CurrentIssues\\AB_CIC\\.venv\\lib\\site-packages\\shap\\__init__.py:31\u001b[0m, in \u001b[0;36munsupported\u001b[1;34m(*args, **kwargs)\u001b[0m\n\u001b[0;32m     30\u001b[0m \u001b[38;5;28;01mdef\u001b[39;00m \u001b[38;5;21munsupported\u001b[39m(\u001b[38;5;241m*\u001b[39margs, \u001b[38;5;241m*\u001b[39m\u001b[38;5;241m*\u001b[39mkwargs):\n\u001b[1;32m---> 31\u001b[0m     \u001b[38;5;28;01mraise\u001b[39;00m \u001b[38;5;167;01mImportError\u001b[39;00m(_no_matplotlib_warning)\n",
      "\u001b[1;31mImportError\u001b[0m: matplotlib is not installed so plotting is not available! Run `pip install matplotlib` to fix this."
     ]
    }
   ],
   "source": [
    "shap.force_plot(explainer.expected_value, shap_values[0,:], Xv.iloc[0,:])"
   ]
  }
 ],
 "metadata": {
  "kernelspec": {
   "display_name": "Python 3",
   "language": "python",
   "name": "python3"
  },
  "language_info": {
   "codemirror_mode": {
    "name": "ipython",
    "version": 3
   },
   "file_extension": ".py",
   "mimetype": "text/x-python",
   "name": "python",
   "nbconvert_exporter": "python",
   "pygments_lexer": "ipython3",
   "version": "3.10.8"
  }
 },
 "nbformat": 4,
 "nbformat_minor": 2
}
